{
  "metadata": {
    "language_info": {
      "codemirror_mode": {
        "name": "python",
        "version": 3
      },
      "file_extension": ".py",
      "mimetype": "text/x-python",
      "name": "python",
      "nbconvert_exporter": "python",
      "pygments_lexer": "ipython3",
      "version": "3.8"
    },
    "kernelspec": {
      "name": "python",
      "display_name": "Python (Pyodide)",
      "language": "python"
    }
  },
  "nbformat_minor": 4,
  "nbformat": 4,
  "cells": [
    {
      "cell_type": "markdown",
      "source": "first Unique Character in a String\n\nGiven a string s, find the first non-repeating character in it and return its index. If it does not exist, return -1.\n\nExample 1:\nInput: s = \"leetcode\"\nOutput: 0\n\nExample 2:\nInput: s = \"loveleetcode\"\nOutput: 2\n\nExample 3:\nInput: s = \"aabb\"\nOutput: -1\n\nConstraints:\na. 1 <= s.length <= 10^5\nb. s consists of only lowercase English letters.\n",
      "metadata": {}
    },
    {
      "cell_type": "code",
      "source": "from collections import defaultdict\n\ndef firstUniqChar(s):\n# Create a hashmap to store character frequencies\n    freq = defaultdict(int)\n\n# Update the frequencies in the hashmap\n    for char in s:\n        freq[char] += 1\n\n# Find the first non-repeating character\n    for i in range(len(s)):\n        if freq[s[i]] == 1:\n            return i\n\n    # No non-repeating character found\n    return -1\n",
      "metadata": {
        "trusted": true
      },
      "execution_count": 16,
      "outputs": []
    },
    {
      "cell_type": "code",
      "source": "Example 1:",
      "metadata": {
        "trusted": true
      },
      "execution_count": null,
      "outputs": []
    },
    {
      "cell_type": "code",
      "source": "s = \"leetcode\"\nprint(firstUniqChar(s))",
      "metadata": {
        "trusted": true
      },
      "execution_count": 17,
      "outputs": [
        {
          "name": "stdout",
          "text": "0\n",
          "output_type": "stream"
        }
      ]
    },
    {
      "cell_type": "code",
      "source": "Example 2:",
      "metadata": {},
      "execution_count": null,
      "outputs": []
    },
    {
      "cell_type": "code",
      "source": "s = \"loveleetcode\"\nprint(firstUniqChar(s)) ",
      "metadata": {
        "trusted": true
      },
      "execution_count": 18,
      "outputs": [
        {
          "name": "stdout",
          "text": "2\n",
          "output_type": "stream"
        }
      ]
    },
    {
      "cell_type": "code",
      "source": "Example 3:",
      "metadata": {},
      "execution_count": null,
      "outputs": []
    },
    {
      "cell_type": "code",
      "source": "s = \"aabb\"\nprint(firstUniqChar(s))",
      "metadata": {
        "trusted": true
      },
      "execution_count": 19,
      "outputs": [
        {
          "name": "stdout",
          "text": "-1\n",
          "output_type": "stream"
        }
      ]
    },
    {
      "cell_type": "code",
      "source": "",
      "metadata": {},
      "execution_count": null,
      "outputs": []
    }
  ]
}